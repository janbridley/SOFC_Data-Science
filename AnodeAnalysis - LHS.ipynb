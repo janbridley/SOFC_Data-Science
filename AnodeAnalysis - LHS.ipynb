{
 "cells": [
  {
   "cell_type": "code",
   "execution_count": 1,
   "metadata": {
    "ExecuteTime": {
     "end_time": "2019-11-11T01:31:48.181729Z",
     "start_time": "2019-11-11T01:31:48.174747Z"
    }
   },
   "outputs": [
    {
     "name": "stdout",
     "output_type": "stream",
     "text": [
      "\n"
     ]
    }
   ],
   "source": [
    "# -*- coding: utf-8 -*-\n",
    "\"\"\"\n",
    "Created on Mon Oct  7 17:11:35 2019\n",
    "\n",
    "@author: User\n",
    "\"\"\"\n",
    "\"\"\"\n",
    "H added up path lengths along the boundaries\n",
    "he used expaning sphere method\n",
    "worked with computer science student who did fast march algorithm\n",
    "One overall goal was to find the triple phase boundary density\n",
    "\"\n",
    "The microstructural parameters such as volume fractions,\n",
    ": DO NOT need particle diameter as its own quantity:, active/inactive triple \n",
    "phase boundary, tortuosity; were calculated\n",
    "for the as-reduced cell and cells after operations.\n",
    "\"\n",
    "\"\"\"\n",
    "print('')"
   ]
  },
  {
   "cell_type": "code",
   "execution_count": 2,
   "metadata": {
    "ExecuteTime": {
     "end_time": "2019-11-11T01:31:49.601169Z",
     "start_time": "2019-11-11T01:31:48.183723Z"
    }
   },
   "outputs": [],
   "source": [
    "# Package Import\n",
    "from threshold import threshold           # File I created to threshold images\n",
    "from scipy.io import loadmat              # loads .mat file\n",
    "import matplotlib.pyplot as plt           # plots data: includes plot & imshow\n",
    "from mpl_toolkits import mplot3d          # supports 3d plotting\n",
    "import pandas as pd                       # easy to use 2D data structure\n",
    "import numpy as np                        # contains a variety of numerical\n",
    "                                          # methods and data structures\n",
    "from collections import Counter           # structure that counts occurences\n",
    "from smt.sampling_methods import LHS      # latin hypercube sampling function\n",
    "import pyDOE as pydoe                     # contains sampling methods\n",
    "import os                                 # interacts with PATH to find files\n",
    "import time                               # used for timer function\n",
    "import tqdm                               # progress bar for iterables\n",
    "import math                               # mathematical functions\n",
    "import re                                 # regex bayBEEE\n",
    "\n",
    "\n",
    "\n",
    "# define target folder\n",
    "path = 'C:\\\\Users\\\\User\\\\Documents\\\\SOFC_Data_Science\\\\Data_OG'"
   ]
  },
  {
   "cell_type": "code",
   "execution_count": 3,
   "metadata": {
    "ExecuteTime": {
     "end_time": "2019-11-11T01:31:51.142725Z",
     "start_time": "2019-11-11T01:31:49.603138Z"
    },
    "code_folding": []
   },
   "outputs": [
    {
     "name": "stdout",
     "output_type": "stream",
     "text": [
      "files found: \n",
      ".\\PCT195-A2-Anode.mat\n",
      ".\\PCt195-B1-Anode.mat\n",
      ".\\PCT195-B2-Anode-.mat\n",
      ".\\PCT209-1Khrs-anode.mat\n",
      ".\\PCT209-As-reduced-Anode.mat\n",
      "1.5316076278686523 seconds elapsed\n"
     ]
    }
   ],
   "source": [
    "# Load files from path\n",
    "# start timer\n",
    "tic = time.time()\n",
    "def load_files(path):\n",
    "    \"\"\"\n",
    "    param: path: full path to the folder containing all data files\n",
    "    return: loaded: dict of all files loaded, with keys equal to the\n",
    "                    important part of the file names: format \"PCT195-A2-Anode\"\n",
    "    return: filenames: list of full file paths for each file\n",
    "    \"\"\"\n",
    "    filenames = []\n",
    "    # r=root, d=directories, f = files\n",
    "    for r, d, f in os.walk(path):\n",
    "        for file in f:\n",
    "            if '.mat' in file:\n",
    "                filenames.append(os.path.join(r, file))\n",
    "\n",
    "    print('files found: ')\n",
    "    for f in filenames:\n",
    "        print('.' + f[49:])\n",
    "\n",
    "    # load all .mat files from target folder\n",
    "    loaded={}\n",
    "    for filename in filenames:\n",
    "        fn = 'Amira_' + re.sub(r\"[^\\w\\s\\\\:]\", '_', filename)[50:]\n",
    "        loaded.update({filename[50:-4] : loadmat(filename)[fn]})\n",
    "    print(str(time.time()-tic) + ' seconds elapsed')\n",
    "    return loaded, filenames\n",
    "loaded,filenames = load_files(path)"
   ]
  },
  {
   "cell_type": "code",
   "execution_count": 4,
   "metadata": {
    "ExecuteTime": {
     "end_time": "2019-11-11T01:31:51.149706Z",
     "start_time": "2019-11-11T01:31:51.144720Z"
    }
   },
   "outputs": [],
   "source": [
    "# this loads only the A2 anode file data, then thresholds layerone\n",
    "onefile = loaded[filenames[0][50:-4]]\n",
    "smallfile = onefile[0:57,0:302,0:7]\n",
    "layerone = onefile[:,:,0] # extract first sheet of data from the matrix\n",
    "\n",
    "#x = threshold(layerone)"
   ]
  },
  {
   "cell_type": "code",
   "execution_count": 6,
   "metadata": {
    "ExecuteTime": {
     "end_time": "2019-11-11T01:38:37.827319Z",
     "start_time": "2019-11-11T01:38:37.822361Z"
    },
    "scrolled": true
   },
   "outputs": [],
   "source": [
    "# Make Colormap\n",
    "def make_colormap(data,title):\n",
    "    fig = plt.figure(figsize=(12,4))\n",
    "\n",
    "    ax = fig.add_subplot(111)\n",
    "    ax.set_title(title)\n",
    "    plt.imshow(data,cmap='Purples')\n",
    "    ax.set_aspect('equal')\n",
    "    ax.invert_yaxis()\n",
    "    #plt.colorbar(orientation='horizontal')\n",
    "    plt.show()\n",
    "#make_colormap(x,'Layer One')"
   ]
  },
  {
   "cell_type": "code",
   "execution_count": 8,
   "metadata": {
    "ExecuteTime": {
     "end_time": "2019-11-11T01:38:42.400070Z",
     "start_time": "2019-11-11T01:38:42.397090Z"
    }
   },
   "outputs": [],
   "source": [
    "#Find phase boundaries\n",
    "#y = np.gradient(x)\n",
    "#z = 1/((y[0]+y[1])-0.75)\n",
    "#make_colormap(z, \"Boundaries (Gradient Method)\")"
   ]
  },
  {
   "cell_type": "code",
   "execution_count": null,
   "metadata": {},
   "outputs": [],
   "source": []
  },
  {
   "cell_type": "code",
   "execution_count": 25,
   "metadata": {
    "ExecuteTime": {
     "end_time": "2019-11-11T03:59:09.983977Z",
     "start_time": "2019-11-11T03:59:09.827958Z"
    }
   },
   "outputs": [
    {
     "name": "stdout",
     "output_type": "stream",
     "text": [
      "(500000, 3)\n"
     ]
    },
    {
     "data": {
      "text/plain": [
       "<Figure size 288x1440 with 0 Axes>"
      ]
     },
     "metadata": {},
     "output_type": "display_data"
    }
   ],
   "source": [
    "xlimits = np.array([ [0, onefile.shape[0]-1], [0, onefile.shape[1]-1], [0, onefile.shape[2]-1]])\n",
    "sampling = LHS(xlimits=xlimits)\n",
    "\n",
    "samps = sampling(int(5e5)) # control number of points generated\n",
    "samps = np.round(samps,decimals=0).astype(int)\n",
    "print(samps.shape)\n",
    "fig3 = plt.figure(figsize=(4,20))\n",
    "#ax = plt.axes(projection='3d')\n",
    "#ax.set_xlabel('X')\n",
    "#ax.set_ylabel('Y')\n",
    "#ax.set_zlabel('Z')\n",
    "#ax.view_init(60, 90)\n",
    "#ax.invert_xaxis()\n",
    "#ax.invert_yaxis()\n",
    "#ax.scatter3D(x[:, 0], x[:, 1],x[:,2], \",\", color='xkcd:plum');\n",
    "#plt.show()"
   ]
  },
  {
   "cell_type": "code",
   "execution_count": 26,
   "metadata": {
    "ExecuteTime": {
     "end_time": "2019-11-11T03:59:10.207680Z",
     "start_time": "2019-11-11T03:59:10.196672Z"
    },
    "code_folding": [
     0
    ]
   },
   "outputs": [],
   "source": [
    "def searchx(xin,yin,zin,matrix,direction):\n",
    "    \"\"\"\n",
    "    param: xin: input x value for random point\n",
    "    param: yin: input y value for random point\n",
    "    param: zin: input z value for random point\n",
    "    param: matrix: 3d input dataframe\n",
    "    param: direction: must be 1 or -1: search east or west\n",
    "    return: (xin,yin,zin): input coordinates\n",
    "    return: (xin,yin+i,zin): output location of border\n",
    "    return: (center,edgeval): change of phase\n",
    "    \"\"\"\n",
    "    i = 0\n",
    "    center = matrix[xin,yin,zin]\n",
    "    edgeval = center\n",
    "    # increment up until it finds northern border\n",
    "    while edgeval == center and (xin+i > 0) and (xin+i < onefile.shape[0]):\n",
    "        edgeval = matrix[xin+i,yin,zin]\n",
    "        i+=direction\n",
    "\n",
    "    return [(xin, yin, zin), (xin+i, yin, zin), (center,edgeval)]"
   ]
  },
  {
   "cell_type": "code",
   "execution_count": 27,
   "metadata": {
    "ExecuteTime": {
     "end_time": "2019-11-11T03:59:10.415080Z",
     "start_time": "2019-11-11T03:59:10.409097Z"
    },
    "code_folding": [
     0
    ]
   },
   "outputs": [],
   "source": [
    "def searchy(xin,yin,zin,matrix,direction):\n",
    "    \"\"\"\n",
    "    param: xin: input x value for random point\n",
    "    param: yin: input y value for random point\n",
    "    param: zin: input z value for random point\n",
    "    param: matrix: 3d input dataframe\n",
    "    param: direction: must be 1 or -1: search north or south\n",
    "    return: (xin,yin,zin): input coordinates\n",
    "    return: (xin,yin+i,zin): output location of border\n",
    "    return: (center,edgeval): change of phase\n",
    "    \"\"\"\n",
    "    i = 0\n",
    "    center = matrix[xin,yin,zin]\n",
    "    edgeval = center\n",
    "    # increment up until it finds northern border\n",
    "    while edgeval == center and (yin+i > 0) and (yin+i < onefile.shape[1]):\n",
    "        edgeval = matrix[xin,yin+i,zin]\n",
    "        i+=direction\n",
    "\n",
    "    return [(xin, yin, zin), (xin, yin+i, zin), (center,edgeval)]"
   ]
  },
  {
   "cell_type": "code",
   "execution_count": 28,
   "metadata": {
    "ExecuteTime": {
     "end_time": "2019-11-11T03:59:10.610652Z",
     "start_time": "2019-11-11T03:59:10.604653Z"
    },
    "code_folding": [
     0
    ]
   },
   "outputs": [],
   "source": [
    "def searchz(xin,yin,zin,matrix,direction):\n",
    "    \"\"\"\n",
    "    param: xin: input x value for random point\n",
    "    param: yin: input y value for random point\n",
    "    param: zin: input z value for random point\n",
    "    param: matrix: 3d input dataframe\n",
    "    param: direction: must be 1 or -1: search in or out\n",
    "    return: (xin,yin,zin): input coordinates\n",
    "    return: (xin,yin,zin+i): output location of border\n",
    "    return: (center,edgeval): change of phase\n",
    "    \"\"\"\n",
    "    i = 0\n",
    "    center = matrix[xin,yin,zin]\n",
    "    edgeval = center\n",
    "    # increment up until it finds northern border\n",
    "    while edgeval == center and (zin+i > 0) and (zin+i < onefile.shape[2]):\n",
    "        edgeval = matrix[xin,yin,zin+i]\n",
    "        i+=direction\n",
    "        \n",
    "    return [(xin, yin, zin), (xin, yin, zin+i), (center,edgeval)]"
   ]
  },
  {
   "cell_type": "code",
   "execution_count": 29,
   "metadata": {
    "ExecuteTime": {
     "end_time": "2019-11-11T04:03:36.769299Z",
     "start_time": "2019-11-11T03:59:10.849169Z"
    },
    "code_folding": [
     2
    ],
    "scrolled": true
   },
   "outputs": [
    {
     "name": "stderr",
     "output_type": "stream",
     "text": [
      "100%|██████████████████████████████████████████████████████████| 500000/500000 [04:24<00:00, 1888.27it/s]\n"
     ]
    },
    {
     "name": "stdout",
     "output_type": "stream",
     "text": [
      "Time elapsed: 265.91111278533936 seconds.\n",
      "500000 points scanned.\n"
     ]
    }
   ],
   "source": [
    "timer = time.time()\n",
    "borderdata = []\n",
    "for [xpos,ypos,zpos] in tqdm.tqdm(samps):\n",
    "    # run through the search algoriths (up and down) for each dimension)\n",
    "    # currently runs in O(n) time, at 2000 operations per second\n",
    "    borderdata.append(searchx(xpos,ypos,zpos,onefile,direction =  1))\n",
    "    borderdata.append(searchx(xpos,ypos,zpos,onefile,direction = -1))\n",
    "    borderdata.append(searchy(xpos,ypos,zpos,onefile,direction =  1))\n",
    "    borderdata.append(searchy(xpos,ypos,zpos,onefile,direction = -1))\n",
    "    borderdata.append(searchz(xpos,ypos,zpos,onefile,direction =  1))\n",
    "    borderdata.append(searchz(xpos,ypos,zpos,onefile,direction = -1))\n",
    "    \n",
    "print('Time elapsed: ' + str(time.time()-timer) + ' seconds.')\n",
    "print(str(samps.shape[0]) + ' points scanned.')"
   ]
  },
  {
   "cell_type": "code",
   "execution_count": 30,
   "metadata": {
    "ExecuteTime": {
     "end_time": "2019-11-11T04:03:38.756031Z",
     "start_time": "2019-11-11T04:03:36.770296Z"
    }
   },
   "outputs": [
    {
     "data": {
      "text/plain": [
       "[<matplotlib.lines.Line2D at 0x231626d9fd0>]"
      ]
     },
     "execution_count": 30,
     "metadata": {},
     "output_type": "execute_result"
    },
    {
     "data": {
      "image/png": "[encoded data removed]",
      "text/plain": [
       "<Figure size 864x288 with 1 Axes>"
      ]
     },
     "metadata": {
      "needs_background": "light"
     },
     "output_type": "display_data"
    }
   ],
   "source": [
    "borders = [item[1] for item in borderdata] # just border locations\n",
    "## if (item[2][0]!=item[2][1]) : add to line above to clean noise from intersecting edges\n",
    "sliced = [item for item in borders if item[2]==50] # just second slice\n",
    "# NOTE that where any dimension == 0 or max of that dimension, there will be a lot of noise\n",
    "# plot the first slice\n",
    "fig4 = plt.figure(figsize=(12,4))\n",
    "# note that 1 and 0 below should be switched for accurate dimension\n",
    "plt.plot([item[1] for item in sliced],\n",
    "         [item[0] for item in sliced],\n",
    "         marker=',',linestyle='')\n",
    "#plt.gca().invert_yaxis()"
   ]
  },
  {
   "cell_type": "code",
   "execution_count": 15,
   "metadata": {
    "ExecuteTime": {
     "end_time": "2019-11-11T01:48:24.238575Z",
     "start_time": "2019-11-11T01:48:24.234620Z"
    },
    "code_folding": [
     0
    ],
    "scrolled": false
   },
   "outputs": [],
   "source": [
    "# Code to plot in 3d: not useful because of point density\n",
    "#fig5 = plt.figure(figsize=(12,12))\n",
    "#wire = plt.axes(projection='3d')\n",
    "#wire.set_xlabel('X')\n",
    "#wire.set_ylabel('Y')\n",
    "#wire.set_zlabel('Z')\n",
    "#wire.view_init(60,35)\n",
    "#wire.invert_xaxis()\n",
    "#wire.invert_yaxis()\n",
    "\n",
    "#wire.scatter3D([item[0] for item in borders],\n",
    "#               [item[1] for item in borders],\n",
    "#               [item[2] for item in borders], \n",
    "#               \",\", color='xkcd:plum');\n",
    "#plt.show()"
   ]
  },
  {
   "cell_type": "code",
   "execution_count": 16,
   "metadata": {
    "ExecuteTime": {
     "end_time": "2019-11-11T01:48:24.253656Z",
     "start_time": "2019-11-11T01:48:24.240572Z"
    }
   },
   "outputs": [],
   "source": [
    "# find volume of three-phase boundaries divided by volume of entire thing\n",
    "# focus on finding three phase boundaries specifically"
   ]
  },
  {
   "cell_type": "code",
   "execution_count": 17,
   "metadata": {
    "ExecuteTime": {
     "end_time": "2019-11-11T01:48:25.069936Z",
     "start_time": "2019-11-11T01:48:24.254653Z"
    }
   },
   "outputs": [],
   "source": [
    "import numpy as np\n",
    "import matplotlib.pyplot as plt\n",
    "\n",
    "from skimage import measure\n",
    "# I should be able to use measure.perimeter to find all three phase boundaries in the shape\n",
    "\n",
    "# Find contours at a constant value of 0.8\n",
    "blacks1 = measure.find_contours(layerone, 1)\n",
    "whites3 = measure.find_contours(layerone, 2)"
   ]
  },
  {
   "cell_type": "code",
   "execution_count": 18,
   "metadata": {
    "ExecuteTime": {
     "end_time": "2019-11-11T01:48:25.075893Z",
     "start_time": "2019-11-11T01:48:25.070901Z"
    },
    "code_folding": []
   },
   "outputs": [
    {
     "name": "stdout",
     "output_type": "stream",
     "text": [
      "\n"
     ]
    }
   ],
   "source": [
    "\"\"\"# this function finds the intersection points between the black and white region boundaries\n",
    "intersections = []\n",
    "dists = []\n",
    "for bb in tqdm.tqdm(blacks1):\n",
    "    bb = bb.tolist()\n",
    "    for wb in whites3:\n",
    "        closest = 1000\n",
    "        i = 0\n",
    "        for point in wb:\n",
    "            xval = point[0]\n",
    "            yval = point[1]\n",
    "            #bb.sort(key=lambda x: math.hypot(x[0]-xval,x[1]-yval))\n",
    "            dist = math.hypot(bb[0][0]-xval,bb[0][1]-yval)\n",
    "            if dist < closest:\n",
    "                closest = dist\n",
    "                closepoint = bb[i]\n",
    "            if dist < 1.0:\n",
    "                # add the point in bb closest to a point in wb\n",
    "                intersections.append(closepoint) \n",
    "                #intersections.append(bb[0])\n",
    "                dists.append(closest)\n",
    "        i+=1\n",
    "\"\"\"\n",
    "print('')"
   ]
  },
  {
   "cell_type": "code",
   "execution_count": 19,
   "metadata": {
    "ExecuteTime": {
     "end_time": "2019-11-11T01:48:25.096798Z",
     "start_time": "2019-11-11T01:48:25.076889Z"
    }
   },
   "outputs": [],
   "source": [
    "# add all black outlines (red lines) to a single list\n",
    "redlines = []\n",
    "for bsublist in blacks1:\n",
    "    # iterate through every subarray in the black outlines\n",
    "    for point in bsublist:\n",
    "        # iterate through every point in the sublist\n",
    "        redlines.append(point.tolist())\n",
    "                \n",
    "# add all white outlines (blue lines) to a single list\n",
    "bluelines = []\n",
    "for wsublist in whites3:\n",
    "    # iterate through every subarray in the white outlines\n",
    "    for point in wsublist:\n",
    "        # iterate through every point in the sublist\n",
    "        bluelines.append(point.tolist())\n",
    "        \n",
    "# this probably won't work: it will search across different intersections\n",
    "# maybe it will though, as the lines should be closest at intersections anyway\n",
    "#intersections = []\n",
    "#for wpoint in tqdm.tqdm(bluelines):\n",
    "#    for bpoint in redlines:\n",
    "#        dist = math.hypot(wpoint[0]-bpoint[0],wpoint[1]-bpoint[1])\n",
    "#        if dist < 1:\n",
    "#            intersections.append(wpoint)\n",
    "#            intersections.append(bpoint)"
   ]
  },
  {
   "cell_type": "code",
   "execution_count": 20,
   "metadata": {
    "ExecuteTime": {
     "end_time": "2019-11-11T01:48:25.421928Z",
     "start_time": "2019-11-11T01:48:25.097795Z"
    }
   },
   "outputs": [
    {
     "ename": "NameError",
     "evalue": "name 'intersections' is not defined",
     "output_type": "error",
     "traceback": [
      "\u001b[1;31m---------------------------------------------------------------------------\u001b[0m",
      "\u001b[1;31mNameError\u001b[0m                                 Traceback (most recent call last)",
      "\u001b[1;32m<ipython-input-20-9202f75ad964>\u001b[0m in \u001b[0;36m<module>\u001b[1;34m\u001b[0m\n\u001b[0;32m     19\u001b[0m     \u001b[0mplt\u001b[0m\u001b[1;33m.\u001b[0m\u001b[0mshow\u001b[0m\u001b[1;33m(\u001b[0m\u001b[1;33m)\u001b[0m\u001b[1;33m\u001b[0m\u001b[1;33m\u001b[0m\u001b[0m\n\u001b[0;32m     20\u001b[0m \u001b[1;33m\u001b[0m\u001b[0m\n\u001b[1;32m---> 21\u001b[1;33m \u001b[0mplotcontours\u001b[0m\u001b[1;33m(\u001b[0m\u001b[0mlayerone\u001b[0m\u001b[1;33m,\u001b[0m\u001b[0mblacks1\u001b[0m\u001b[1;33m,\u001b[0m\u001b[0mwhites3\u001b[0m\u001b[1;33m)\u001b[0m\u001b[1;33m\u001b[0m\u001b[1;33m\u001b[0m\u001b[0m\n\u001b[0m",
      "\u001b[1;32m<ipython-input-20-9202f75ad964>\u001b[0m in \u001b[0;36mplotcontours\u001b[1;34m(image, blacks, whites)\u001b[0m\n\u001b[0;32m     11\u001b[0m     \u001b[1;31m# plot what SHOULD BE three phase boundaries:\u001b[0m\u001b[1;33m\u001b[0m\u001b[1;33m\u001b[0m\u001b[1;33m\u001b[0m\u001b[0m\n\u001b[0;32m     12\u001b[0m     \u001b[1;31m# but instead are the boundaries between the black and white phases\u001b[0m\u001b[1;33m\u001b[0m\u001b[1;33m\u001b[0m\u001b[1;33m\u001b[0m\u001b[0m\n\u001b[1;32m---> 13\u001b[1;33m     \u001b[1;32mfor\u001b[0m \u001b[0mpoint\u001b[0m \u001b[1;32min\u001b[0m \u001b[0mtqdm\u001b[0m\u001b[1;33m.\u001b[0m\u001b[0mtqdm\u001b[0m\u001b[1;33m(\u001b[0m\u001b[0mintersections\u001b[0m\u001b[1;33m)\u001b[0m\u001b[1;33m:\u001b[0m\u001b[1;33m\u001b[0m\u001b[1;33m\u001b[0m\u001b[0m\n\u001b[0m\u001b[0;32m     14\u001b[0m         \u001b[0max\u001b[0m\u001b[1;33m.\u001b[0m\u001b[0mscatter\u001b[0m\u001b[1;33m(\u001b[0m\u001b[0mpoint\u001b[0m\u001b[1;33m[\u001b[0m\u001b[1;36m1\u001b[0m\u001b[1;33m]\u001b[0m\u001b[1;33m,\u001b[0m\u001b[0mpoint\u001b[0m\u001b[1;33m[\u001b[0m\u001b[1;36m0\u001b[0m\u001b[1;33m]\u001b[0m\u001b[1;33m,\u001b[0m\u001b[0mcolor\u001b[0m\u001b[1;33m=\u001b[0m\u001b[1;34m'y'\u001b[0m\u001b[1;33m)\u001b[0m\u001b[1;33m\u001b[0m\u001b[1;33m\u001b[0m\u001b[0m\n\u001b[0;32m     15\u001b[0m \u001b[1;33m\u001b[0m\u001b[0m\n",
      "\u001b[1;31mNameError\u001b[0m: name 'intersections' is not defined"
     ]
    },
    {
     "data": {
      "image/png": "[encoded data removed]",
      "text/plain": [
       "<Figure size 1152x432 with 1 Axes>"
      ]
     },
     "metadata": {
      "needs_background": "light"
     },
     "output_type": "display_data"
    }
   ],
   "source": [
    "# Display the image and plot all contours found\n",
    "def plotcontours(image,blacks,whites):\n",
    "    fig, ax = plt.subplots(figsize=(16,6))\n",
    "    ax.imshow(image, cmap=plt.cm.gray)\n",
    "    #for contour in blacks: # black (1) regions are outlined in red\n",
    "    #    ax.plot(contour[:, 1], contour[:, 0], 'r', linewidth=2)\n",
    "    #for contour in whites: # white (3) regions are outlined in blue\n",
    "    #    ax.plot(contour[:, 1], contour[:, 0], 'b', linewidth=2)\n",
    "    # note that light grey is 2\n",
    "    \n",
    "    # plot what SHOULD BE three phase boundaries: \n",
    "    # but instead are the boundaries between the black and white phases\n",
    "    for point in tqdm.tqdm(intersections):\n",
    "        ax.scatter(point[1],point[0],color='y')\n",
    "    \n",
    "    # set up graph aesthetics\n",
    "    ax.axis('image')\n",
    "    ax.invert_yaxis()\n",
    "    plt.show()\n",
    "\n",
    "plotcontours(layerone,blacks1,whites3)"
   ]
  },
  {
   "cell_type": "code",
   "execution_count": null,
   "metadata": {
    "ExecuteTime": {
     "end_time": "2019-11-11T01:48:25.424920Z",
     "start_time": "2019-11-11T01:38:46.618Z"
    }
   },
   "outputs": [],
   "source": [
    "#count_neighbors(other, r, p=2.0)[source]\n",
    "#close = blacktree.sparse_distance_matrix(whitetree, max_distance=1, p=2.0) # ran in 15 minutes"
   ]
  },
  {
   "cell_type": "code",
   "execution_count": null,
   "metadata": {
    "ExecuteTime": {
     "end_time": "2019-11-09T21:42:24.140755Z",
     "start_time": "2019-11-09T21:42:23.960240Z"
    },
    "scrolled": true
   },
   "outputs": [],
   "source": []
  },
  {
   "cell_type": "code",
   "execution_count": null,
   "metadata": {
    "ExecuteTime": {
     "end_time": "2019-11-09T20:51:14.263537Z",
     "start_time": "2019-11-09T20:51:14.190688Z"
    },
    "code_folding": []
   },
   "outputs": [],
   "source": []
  },
  {
   "cell_type": "code",
   "execution_count": null,
   "metadata": {
    "scrolled": true
   },
   "outputs": [],
   "source": []
  },
  {
   "cell_type": "code",
   "execution_count": 31,
   "metadata": {
    "ExecuteTime": {
     "end_time": "2019-11-11T04:03:38.874715Z",
     "start_time": "2019-11-11T04:03:38.758020Z"
    }
   },
   "outputs": [
    {
     "data": {
      "image/png": "[encoded data removed]",
      "text/plain": [
       "<Figure size 432x288 with 1 Axes>"
      ]
     },
     "metadata": {
      "needs_background": "light"
     },
     "output_type": "display_data"
    }
   ],
   "source": [
    "## CONVEX HULL IMPLEMENTATION: finds outline of a set of points\n",
    "import matplotlib.pyplot as plt\n",
    "from scipy.spatial import ConvexHull, convex_hull_plot_2d\n",
    "\n",
    "points = np.random.rand(30, 2)\n",
    "hull = ConvexHull(points)\n",
    "_ = convex_hull_plot_2d(hull)\n",
    "plt.show()"
   ]
  },
  {
   "cell_type": "code",
   "execution_count": null,
   "metadata": {},
   "outputs": [],
   "source": []
  },
  {
   "cell_type": "code",
   "execution_count": null,
   "metadata": {},
   "outputs": [],
   "source": []
  },
  {
   "cell_type": "code",
   "execution_count": null,
   "metadata": {},
   "outputs": [],
   "source": []
  }
 ],
 "metadata": {
  "kernelspec": {
   "display_name": "Python 3",
   "language": "python",
   "name": "python3"
  },
  "language_info": {
   "codemirror_mode": {
    "name": "ipython",
    "version": 3
   },
   "file_extension": ".py",
   "mimetype": "text/x-python",
   "name": "python",
   "nbconvert_exporter": "python",
   "pygments_lexer": "ipython3",
   "version": "3.7.3"
  }
 },
 "nbformat": 4,
 "nbformat_minor": 2
}
