{
 "cells": [
  {
   "cell_type": "code",
   "execution_count": 1,
   "metadata": {
    "ExecuteTime": {
     "end_time": "2019-11-19T02:10:00.723503Z",
     "start_time": "2019-11-19T02:10:00.720486Z"
    }
   },
   "outputs": [],
   "source": [
    "import math                  # math functions (especially sine)\n",
    "import gc                    # garbage collector: used to pick up all objects"
   ]
  },
  {
   "cell_type": "code",
   "execution_count": 2,
   "metadata": {
    "ExecuteTime": {
     "end_time": "2019-11-19T02:10:00.732497Z",
     "start_time": "2019-11-19T02:10:00.725473Z"
    },
    "code_folding": [
     16,
     20,
     24
    ]
   },
   "outputs": [],
   "source": [
    "# create a dictionary of elements with their masses in AMU\n",
    "elements = {'Ce':{'Mass': 140.12},\n",
    "            'Co':{'Mass': 58.933},\n",
    "            'Cr':{'Mass': 51.996},\n",
    "            'Fe':{'Mass': 55.874},\n",
    "            'Gd':{'Mass': 157.25},\n",
    "            'Hf':{'Mass': 178.49},\n",
    "            'La':{'Mass': 138.91},\n",
    "            'Mg':{'Mass': 24.312},\n",
    "            'Mn':{'Mass': 54.950},\n",
    "            'Ni':{'Mass': 58.710},\n",
    "            'O' :{'Mass': 15.999},\n",
    "            'Sc':{'Mass': 44.956},\n",
    "            'Sr':{'Mass': 87.620},\n",
    "            'Ti':{'Mass': 47.900},\n",
    "            'Zr':{'Mass': 91.220}}\n",
    "\n",
    "def ang2mm(dist_ang):\n",
    "    dist_mm = dist_ang*(1E-7)\n",
    "    return dist_mm\n",
    "\n",
    "def ang2mm3(vol_ang):\n",
    "    vol_mm = vol_ang*(1E-21)\n",
    "    return vol_mm\n",
    "    \n",
    "def mol2one(molar_mass):\n",
    "    mass_one = molar_mass/(6.0221409E23)\n",
    "    return mass_one"
   ]
  },
  {
   "cell_type": "code",
   "execution_count": 3,
   "metadata": {
    "ExecuteTime": {
     "end_time": "2019-11-19T02:10:00.739475Z",
     "start_time": "2019-11-19T02:10:00.734449Z"
    },
    "code_folding": [
     1,
     5,
     9,
     13
    ]
   },
   "outputs": [],
   "source": [
    "# non-object oriented volume functions\n",
    "def vol_cubic(a):\n",
    "    volume = a*a*a\n",
    "    return volume\n",
    "\n",
    "def vol_tetr(a,c):\n",
    "    volume = a*a*c\n",
    "    return volume\n",
    "\n",
    "def vol_orth(a,b,c):\n",
    "    volume = a*b*c\n",
    "    return volume\n",
    "\n",
    "def vol_monoc(a,b,c,B):\n",
    "    volume = a*b*c*math.sin(B)"
   ]
  },
  {
   "cell_type": "code",
   "execution_count": 4,
   "metadata": {
    "ExecuteTime": {
     "end_time": "2019-11-19T02:10:00.749408Z",
     "start_time": "2019-11-19T02:10:00.740432Z"
    },
    "code_folding": [
     25,
     29,
     33,
     38
    ]
   },
   "outputs": [],
   "source": [
    "class Composition:\n",
    "    \n",
    "    def __init__(self, composition, fractions, crystal, quality, Z):\n",
    "        # add initial values\n",
    "        # composition should be a list of A and B site elements\n",
    "        # fractions should be the fractions of all elements, in the order of \n",
    "        #     composition. The last element should be fraction of Oxygen\n",
    "        # crystal is the crystal structure (cubic, tetragonal, etc.)\n",
    "        # quality is the quality of the XRD data\n",
    "        # Z is the number of formula units per unit cell\n",
    "        self.comp = composition\n",
    "        self.fractions = fractions\n",
    "        self.crystal = crystal\n",
    "        self.quality = quality\n",
    "        self.Z = Z\n",
    "        self.form_mass = 0\n",
    "        \n",
    "        # iterate through A and B site atoms to add their mass (in AMU) to total\n",
    "        for i, ele in enumerate(composition):\n",
    "            val = elements[ele]['Mass'] * self.fractions[i]\n",
    "            self.form_mass += val\n",
    "            \n",
    "        # add in mass of oxygen atoms (0 for those where fraction is not given)\n",
    "        self.form_mass += elements['O']['Mass'] * self.fractions[-1]\n",
    "        \n",
    "    def v_cube(self, a):\n",
    "        self.volume = a*a*a#/(1E21)\n",
    "        return self.volume\n",
    "    \n",
    "    def v_tetr(self, a,c):\n",
    "        self.volume = a*a*c#/(1E21)\n",
    "        return self.volume\n",
    "    \n",
    "    def v_rhom(self,V):\n",
    "        # note this takes the volume directly from the XRD data\n",
    "        self.volume = V#/(1E21)\n",
    "        return self.volume\n",
    "    \n",
    "    def v_orth(self,a,b,c):\n",
    "        self.volume = a*b*c#/(1E21)\n",
    "        return self.volume\n",
    "    \n",
    "    def find_dense(self):\n",
    "        vol_cm = self.volume/(1E24) # convert from angstroms^3 to cm^3\n",
    "        mass_g = self.form_mass/(6.0221409E23) # convert from AMU to grams\n",
    "        self.density = (mass_g*self.Z)/vol_cm # multiply by Z (formula units)\n",
    "        return self.density\n"
   ]
  },
  {
   "cell_type": "code",
   "execution_count": 7,
   "metadata": {
    "ExecuteTime": {
     "end_time": "2019-11-19T02:15:08.777390Z",
     "start_time": "2019-11-19T02:15:08.762423Z"
    }
   },
   "outputs": [
    {
     "name": "stdout",
     "output_type": "stream",
     "text": [
      "\n"
     ]
    }
   ],
   "source": [
    "# Start creating all compositions, with their volume included\n",
    "# LSCF_Cr\n",
    "LaFeO3 = Composition(['La','Fe'],[1,1,3],'cubic','calculated', 1)\n",
    "LaFeO3.v_cube(a=3.89)\n",
    "\n",
    "#Cr101LaOx = Composition(['Cr','La'],[1.01,1,0],'cubic','indexed', 1) # note that z value was not given, \n",
    "# nor was an x (oxygen percent)\n",
    "#Cr101LaOx.v_cube(a=3.884)\n",
    "\n",
    "LaCrO3_cube = Composition(['La','Cr'],[1,1,3],'cubic','calculated', 1)\n",
    "LaCrO3_cube.v_cube(a=3.880) # a = 3.900 from other calculated source\n",
    "\n",
    "SrFeO283 = Composition(['Sr','Fe'],[1,1,2.83],'tetragonal','indexed', 1)\n",
    "SrFeO283.v_tetr(a=3.864,c=3.853)\n",
    "\n",
    "LaCr04Fe06O3 = Composition(['La','Cr','Fe'],[1,0.4,0.6,3],'cubic','indexed', 1)\n",
    "LaCr04Fe06O3.v_cube(a=3.885)\n",
    "\n",
    "#LSCF_Cr_Mg\n",
    "La05Sr05FeO3 = Composition(['La','Sr','Fe'],[0.5,0.5,1,3],'rhombo_h','calculated', 6)\n",
    "La05Sr05FeO3.v_rhom(V = 352.87)\n",
    "\n",
    "#LSCF_Cr_Prax\n",
    "La03Sr07FeO3 = Composition(['La','Sr','Fe'],[0.3,0.7,1,3],'rhombo_h','calculated', 6)\n",
    "La03Sr07FeO3.v_rhom(V = 348.16)\n",
    "\n",
    "La075Sr025CrO3 = Composition(['La','Sr','Cr'],[0.75,0.25,1,3],'rhombo_h','calculated', 6)\n",
    "La075Sr025CrO3.v_rhom(V = 347.55)\n",
    "\n",
    "# LSCFP995_FCM\n",
    "#SrFeO286 = Composition(['Sr','Fe'],[1,1,2.86],'tetragonal','indexed', 1) # note that z was not given, \n",
    "# and density is broken for some reason\n",
    "#SrFeO286.v_tetr(a=10.934,c=7.705)\n",
    "\n",
    "# LSCrF\n",
    "LaCrO3_orth = Composition(['La','Cr'],[1,1,3],'orthrhombic','calculated', 4)\n",
    "LaCrO3_orth.v_orth(a=5.514, b=5.478, c=7.752) \n",
    "\n",
    "La0985CrO29775 = Composition(['La','Cr'],[0.985,1,2.9775],'orthrhombic','calculated', 4)\n",
    "La0985CrO29775.v_orth(a=5.475, b=7.754, c=5.513) \n",
    "\n",
    "# LSCrF_Mg\n",
    "La06Sr04FeO3 = Composition(['La','Sr','Fe'],[0.6,0.4,1,3],'rhombo_h','calculated', 6)\n",
    "La06Sr04FeO3.v_rhom(V=355.09)\n",
    "\n",
    "MgCrO4 = Composition(['Mg','Cr'],[1,1,4],'orthrhombic','indexed', 4)\n",
    "MgCrO4.v_orth(a=5.497, b=8.368, c=6.333)\n",
    "\n",
    "MgCr2O4 = Composition(['Mg','Cr'],[1,2,4],'orthrhombic','indexed', 8)\n",
    "MgCr2O4.v_cube(a=8.333)\n",
    "\n",
    "# LSF20_FCM\n",
    "La08Sr02FeO3 = Composition(['La','Sr','Fe'],[0.8,0.2,1,3],'orthrhombic','calculated', 4)\n",
    "La08Sr02FeO3.v_orth(a=5.532, b=5.533 ,c=7.835)\n",
    "\n",
    "print('')"
   ]
  },
  {
   "cell_type": "code",
   "execution_count": null,
   "metadata": {
    "ExecuteTime": {
     "end_time": "2019-11-19T01:30:15.847512Z",
     "start_time": "2019-11-19T01:30:15.840495Z"
    }
   },
   "outputs": [],
   "source": []
  },
  {
   "cell_type": "code",
   "execution_count": 10,
   "metadata": {
    "ExecuteTime": {
     "end_time": "2019-11-19T02:16:25.799277Z",
     "start_time": "2019-11-19T02:16:25.776378Z"
    }
   },
   "outputs": [
    {
     "name": "stdout",
     "output_type": "stream",
     "text": [
      "[['La', 'Fe'], [1, 1, 3], 'cubic'] --> 6.848807812740736 g/cm^3\n",
      "[['La', 'Cr'], [1, 1, 3], 'cubic'] --> 6.791653396509335 g/cm^3\n",
      "[['Sr', 'Fe'], [1, 1, 2.83], 'tetragonal'] --> 5.448933536230788 g/cm^3\n",
      "[['La', 'Cr', 'Fe'], [1, 0.4, 0.6, 3], 'cubic'] --> 6.831356892191375 g/cm^3\n",
      "[['La', 'Sr', 'Fe'], [0.5, 0.5, 1, 3], 'rhombo_h'] --> 6.1308040214412065 g/cm^3\n",
      "[['La', 'Sr', 'Fe'], [0.3, 0.7, 1, 3], 'rhombo_h'] --> 5.920191747804192 g/cm^3\n",
      "[['La', 'Sr', 'Cr'], [0.75, 0.25, 1, 3], 'rhombo_h'] --> 6.481061611544368 g/cm^3\n",
      "[['La', 'Cr'], [1, 1, 3], 'orthrhombic'] --> 6.776853987104232 g/cm^3\n",
      "[['La', 'Cr'], [0.985, 1, 2.9775], 'orthrhombic'] --> 6.710698063846144 g/cm^3\n",
      "[['La', 'Sr', 'Fe'], [0.6, 0.4, 1, 3], 'rhombo_h'] --> 6.236385826441699 g/cm^3\n",
      "[['Mg', 'Cr'], [1, 1, 4], 'orthrhombic'] --> 3.199058891316956 g/cm^3\n",
      "[['Mg', 'Cr'], [1, 2, 4], 'orthrhombic'] --> 4.414832320090537 g/cm^3\n",
      "[['La', 'Sr', 'Fe'], [0.8, 0.2, 1, 3], 'orthrhombic'] --> 6.440108051283767 g/cm^3\n"
     ]
    }
   ],
   "source": [
    "# iterate through objects created above and calculate their densities (in g/cm^3)\n",
    "for obj in gc.get_objects():\n",
    "    if isinstance(obj, Composition):\n",
    "        obj.find_dense()\n",
    "        print(list(obj.__dict__.values())[0:3],'-->',obj.density,'g/cm^3')"
   ]
  },
  {
   "cell_type": "code",
   "execution_count": null,
   "metadata": {
    "ExecuteTime": {
     "end_time": "2019-11-19T01:52:52.089145Z",
     "start_time": "2019-11-19T01:52:52.083161Z"
    }
   },
   "outputs": [],
   "source": []
  },
  {
   "cell_type": "code",
   "execution_count": null,
   "metadata": {
    "ExecuteTime": {
     "end_time": "2019-11-19T00:55:14.509413Z",
     "start_time": "2019-11-19T00:55:14.499409Z"
    }
   },
   "outputs": [],
   "source": []
  },
  {
   "cell_type": "code",
   "execution_count": null,
   "metadata": {},
   "outputs": [],
   "source": []
  },
  {
   "cell_type": "code",
   "execution_count": null,
   "metadata": {},
   "outputs": [],
   "source": []
  },
  {
   "cell_type": "code",
   "execution_count": null,
   "metadata": {},
   "outputs": [],
   "source": []
  },
  {
   "cell_type": "code",
   "execution_count": null,
   "metadata": {},
   "outputs": [],
   "source": []
  },
  {
   "cell_type": "code",
   "execution_count": null,
   "metadata": {},
   "outputs": [],
   "source": []
  }
 ],
 "metadata": {
  "kernelspec": {
   "display_name": "Python 3",
   "language": "python",
   "name": "python3"
  },
  "language_info": {
   "codemirror_mode": {
    "name": "ipython",
    "version": 3
   },
   "file_extension": ".py",
   "mimetype": "text/x-python",
   "name": "python",
   "nbconvert_exporter": "python",
   "pygments_lexer": "ipython3",
   "version": "3.7.3"
  }
 },
 "nbformat": 4,
 "nbformat_minor": 2
}
