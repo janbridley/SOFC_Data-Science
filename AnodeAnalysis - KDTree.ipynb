{
 "cells": [
  {
   "cell_type": "code",
   "execution_count": 1,
   "metadata": {
    "ExecuteTime": {
     "end_time": "2019-11-11T04:51:57.040099Z",
     "start_time": "2019-11-11T04:51:57.032154Z"
    }
   },
   "outputs": [
    {
     "name": "stdout",
     "output_type": "stream",
     "text": [
      "\n"
     ]
    }
   ],
   "source": [
    "# -*- coding: utf-8 -*-\n",
    "\"\"\"\n",
    "Created on Sun Nov  10 20:03:47 2019\n",
    "\n",
    "@author: JJB247\n",
    "\"\"\"\n",
    "\"\"\"\n",
    "H added up path lengths along the boundaries\n",
    "he used expaning sphere method\n",
    "worked with computer science student who did fast march algorithm\n",
    "One overall goal was to find the triple phase boundary density\n",
    "\"\n",
    "The microstructural parameters such as volume fractions,\n",
    ": DO NOT need particle diameter as its own quantity:, active/inactive triple \n",
    "phase boundary, tortuosity; were calculated\n",
    "for the as-reduced cell and cells after operations.\n",
    "\"\n",
    "\"\"\"\n",
    "print('')"
   ]
  },
  {
   "cell_type": "markdown",
   "metadata": {},
   "source": [
    "NOTES: \n",
    "this implementation will attempt to use k-dimensional trees to efficiently find nearest neighbor triple pairs\n",
    "\n",
    "this may also involve using R-trees or R*-trees, in order to eliminate the need of preloading all the data\n",
    "\n",
    "a cKDtree could be implemented for increased optomization in the future\n",
    "    "
   ]
  },
  {
   "cell_type": "markdown",
   "metadata": {},
   "source": [
    "learning:\n",
    "https://observablehq.com/@2talltim/spatial-data-structures-octrees-bsp-and-k-d-trees\n"
   ]
  },
  {
   "cell_type": "code",
   "execution_count": 2,
   "metadata": {
    "ExecuteTime": {
     "end_time": "2019-11-11T04:52:00.858529Z",
     "start_time": "2019-11-11T04:51:57.042093Z"
    }
   },
   "outputs": [],
   "source": [
    "# Package Import\n",
    "from threshold import threshold           # File I created to threshold images\n",
    "from scipy.io import loadmat              # loads .mat file\n",
    "from scipy import spatial                 # I'm not a math major but this works\n",
    "from skimage import measure               # contains functions to find contours in 2d\n",
    "import matplotlib.pyplot as plt           # plots data: includes plot & imshow\n",
    "from mpl_toolkits import mplot3d          # supports 3d plotting\n",
    "import pandas as pd                       # easy to use 2D data structure\n",
    "import numpy as np                        # contains a variety of numerical\n",
    "                                          # methods and data structures\n",
    "from collections import Counter           # structure that counts occurences\n",
    "from smt.sampling_methods import LHS      # latin hypercube sampling function\n",
    "import pyDOE as pydoe                     # contains sampling methods\n",
    "import os                                 # interacts with PATH to find files\n",
    "import time                               # used for timer function\n",
    "import tqdm                               # progress bar for iterables\n",
    "import math                               # mathematical functions\n",
    "import re                                 # regex bayBEEE\n",
    "\n",
    "# define target folder\n",
    "path = 'C:\\\\Users\\\\User\\\\Documents\\\\SOFC_Data_Science\\\\Data_OG'"
   ]
  },
  {
   "cell_type": "code",
   "execution_count": 3,
   "metadata": {
    "ExecuteTime": {
     "end_time": "2019-11-11T04:52:02.529025Z",
     "start_time": "2019-11-11T04:52:00.860441Z"
    },
    "code_folding": []
   },
   "outputs": [
    {
     "name": "stdout",
     "output_type": "stream",
     "text": [
      "files found: \n",
      ".\\PCT195-A2-Anode.mat\n",
      ".\\PCt195-B1-Anode.mat\n",
      ".\\PCT195-B2-Anode-.mat\n",
      ".\\PCT209-1Khrs-anode.mat\n",
      ".\\PCT209-As-reduced-Anode.mat\n",
      "1.661576509475708 seconds elapsed\n"
     ]
    }
   ],
   "source": [
    "# Load files from path \n",
    "# start timer\n",
    "tic = time.time()\n",
    "def load_files(path):\n",
    "    \"\"\"\n",
    "    param: path: full path to the folder containing all data files\n",
    "    return: loaded: dict of all files loaded, with keys equal to the\n",
    "                    important part of the file names: format \"PCT195-A2-Anode\"\n",
    "    return: filenames: list of full file paths for each file\n",
    "    \"\"\"\n",
    "    filenames = []\n",
    "    # r=root, d=directories, f = files\n",
    "    for r, d, f in os.walk(path):\n",
    "        for file in f:\n",
    "            if '.mat' in file:\n",
    "                filenames.append(os.path.join(r, file))\n",
    "\n",
    "    print('files found: ')\n",
    "    for f in filenames:\n",
    "        print('.' + f[49:])\n",
    "\n",
    "    # load all .mat files from target folder\n",
    "    loaded={}\n",
    "    for filename in filenames:\n",
    "        fn = 'Amira_' + re.sub(r\"[^\\w\\s\\\\:]\", '_', filename)[50:]\n",
    "        loaded.update({filename[50:-4] : loadmat(filename)[fn]})\n",
    "    print(str(time.time()-tic) + ' seconds elapsed')\n",
    "    return loaded, filenames\n",
    "loaded,filenames = load_files(path)"
   ]
  },
  {
   "cell_type": "code",
   "execution_count": 4,
   "metadata": {
    "ExecuteTime": {
     "end_time": "2019-11-11T04:52:29.136657Z",
     "start_time": "2019-11-11T04:52:02.531020Z"
    }
   },
   "outputs": [
    {
     "name": "stderr",
     "output_type": "stream",
     "text": [
      "100%|████████████████████████████████████████████████████████████████████| 73/73 [00:26<00:00,  2.78it/s]\n"
     ]
    }
   ],
   "source": [
    "# extract one file\n",
    "onefile = loaded[filenames[0][50:-4]]\n",
    "\n",
    "#allboundaries = []\n",
    "black = []\n",
    "white = []\n",
    "grey  = []\n",
    "\n",
    "for layerdepth in tqdm.tqdm(range(onefile.shape[2])):\n",
    "#for layerdepth in [0]:\n",
    "    # ========================================================================\n",
    "    # ========================= FIND BORDERS =================================\n",
    "    # ========================================================================\n",
    "    currentlayer = onefile[:,:,layerdepth] # extract one sheet of data\n",
    "    darkregions = measure.find_contours(currentlayer, 1)\n",
    "    whiteregions = measure.find_contours(currentlayer, 2)\n",
    "    \n",
    "    # filter the image to highlight grey regions\n",
    "    filteredlayer = currentlayer.copy()\n",
    "    filteredlayer[filteredlayer == 3] = 1\n",
    "    greyregions = measure.find_contours(filteredlayer, 1)\n",
    "    # ========================================================================\n",
    "    \n",
    "    # add all black outlines (red lines) to a single list\n",
    "    colordimension = 1\n",
    "    for bsublist in darkregions:\n",
    "        # iterate through every subarray in the black outlines\n",
    "        for point in bsublist:\n",
    "            # iterate through every point in the sublist\n",
    "            # add the z coordinate and a fourth dimension (color)\n",
    "            point = np.append(point,layerdepth)\n",
    "            #point = np.append(point,colordimension)\n",
    "            #allboundaries.append(point)\n",
    "            black.append(point)\n",
    "            \n",
    "    colordimension = 3\n",
    "    # add all white outlines (blue lines) to a single list\n",
    "    for wsublist in whiteregions:\n",
    "        for point in wsublist:\n",
    "            point = np.append(point,layerdepth)\n",
    "            #point = np.append(point,colordimension)\n",
    "            #allboundaries.append(point)\n",
    "            white.append(point)\n",
    "    \n",
    "    colordimension = 2\n",
    "    # add all grey outlines (yellow lines) to a single list\n",
    "    for ysublist in greyregions:\n",
    "        for point in ysublist:\n",
    "            point = np.append(point,layerdepth)\n",
    "            #point = np.append(point,colordimension)\n",
    "            #allboundaries.append(point)\n",
    "            grey.append(point)"
   ]
  },
  {
   "cell_type": "code",
   "execution_count": 5,
   "metadata": {
    "ExecuteTime": {
     "end_time": "2019-11-11T14:05:08.912284Z",
     "start_time": "2019-11-11T04:52:29.137612Z"
    }
   },
   "outputs": [],
   "source": [
    "#bigtree = spatial.KDTree(allboundaries)\n",
    "blacktree = spatial.KDTree(black)\n",
    "whitetree = spatial.KDTree(white)\n",
    "greytree  = spatial.KDTree(grey)"
   ]
  },
  {
   "cell_type": "code",
   "execution_count": null,
   "metadata": {
    "ExecuteTime": {
     "end_time": "2019-11-11T02:12:56.799356Z",
     "start_time": "2019-11-11T01:57:08.598846Z"
    }
   },
   "outputs": [],
   "source": []
  },
  {
   "cell_type": "code",
   "execution_count": 6,
   "metadata": {
    "ExecuteTime": {
     "end_time": "2019-11-11T14:24:47.566529Z",
     "start_time": "2019-11-11T14:05:08.913281Z"
    }
   },
   "outputs": [
    {
     "name": "stdout",
     "output_type": "stream",
     "text": [
      "T1,T2: 467.571658372879 seconds elapsed.\n",
      "T1,T3: 711.0746524333954 seconds elapsed.\n"
     ]
    }
   ],
   "source": [
    "# \"For each element self.data[i] of this tree, results[i] is a list of the indices of its neighbors in other.data.\"\n",
    "\n",
    "# this works.\n",
    "\n",
    "# for index i in close2, the points listed are the nearest neighbors\n",
    "# BUT: every empty neighbor is a point where radius > 1: so, not a boundary\n",
    "# now all I need to do is find the nearest neighbors between black and grey, \n",
    "# and pick out all the indexes where both lists do not have empty lists\n",
    "tic = time.time()\n",
    "bwneighbors = blacktree.query_ball_tree(whitetree, r=1, p=2.0, eps=0)\n",
    "print('T1,T2: ' + str(time.time()-tic) +  ' seconds elapsed.')\n",
    "tic = time.time()\n",
    "bgneighbors = blacktree.query_ball_tree(greytree, r=1, p=2.0, eps=0)\n",
    "print('T1,T3: ' + str(time.time()-tic) +  ' seconds elapsed.')"
   ]
  },
  {
   "cell_type": "code",
   "execution_count": 7,
   "metadata": {
    "ExecuteTime": {
     "end_time": "2019-11-11T14:24:47.964535Z",
     "start_time": "2019-11-11T14:24:47.567541Z"
    }
   },
   "outputs": [
    {
     "name": "stderr",
     "output_type": "stream",
     "text": [
      "100%|█████████████████████████████████████████████████████| 1235081/1235081 [00:00<00:00, 3183194.45it/s]\n"
     ]
    }
   ],
   "source": [
    "i = 0\n",
    "tpb = []\n",
    "for i in tqdm.tqdm(range(len(bgneighbors))):\n",
    "    if bwneighbors[i] and bgneighbors[i]:\n",
    "        tpb.append(i)\n",
    "        i+=1"
   ]
  },
  {
   "cell_type": "code",
   "execution_count": null,
   "metadata": {
    "ExecuteTime": {
     "end_time": "2019-11-11T04:32:00.652270Z",
     "start_time": "2019-11-11T04:32:00.647283Z"
    }
   },
   "outputs": [],
   "source": []
  },
  {
   "cell_type": "code",
   "execution_count": null,
   "metadata": {
    "ExecuteTime": {
     "end_time": "2019-11-11T03:35:29.698624Z",
     "start_time": "2019-11-11T03:35:29.657685Z"
    }
   },
   "outputs": [],
   "source": []
  },
  {
   "cell_type": "code",
   "execution_count": null,
   "metadata": {},
   "outputs": [],
   "source": []
  }
 ],
 "metadata": {
  "kernelspec": {
   "display_name": "Python 3",
   "language": "python",
   "name": "python3"
  },
  "language_info": {
   "codemirror_mode": {
    "name": "ipython",
    "version": 3
   },
   "file_extension": ".py",
   "mimetype": "text/x-python",
   "name": "python",
   "nbconvert_exporter": "python",
   "pygments_lexer": "ipython3",
   "version": "3.7.3"
  }
 },
 "nbformat": 4,
 "nbformat_minor": 2
}
